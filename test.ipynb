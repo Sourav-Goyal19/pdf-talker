{
 "cells": [
  {
   "cell_type": "code",
   "execution_count": null,
   "metadata": {},
   "outputs": [],
   "source": [
    "import os\n",
    "from langchain_pinecone import PineconeVectorStore\n",
    "from langchain_text_splitters import RecursiveCharacterTextSplitter\n",
    "from langchain_community.document_loaders import PyPDFDirectoryLoader\n",
    "from langchain_groq import ChatGroq\n",
    "from langchain_cohere import CohereEmbeddings\n",
    "from dotenv import load_dotenv\n",
    "\n",
    "load_dotenv()\n",
    "\n",
    "pinecone_api_key = os.getenv(\"PINECONE_API_KEY\")\n",
    "os.environ[\"PINECONE_API_KEY\"] = (\n",
    "    \"pcsk_4UTPKe_5mkXoweEw83pjDm5gebcCdjRA76kvzZ1fysbaNsnugm2ds7hyHJQ5YFtJ78oMk5\"\n",
    ")\n"
   ]
  },
  {
   "cell_type": "code",
   "execution_count": 2,
   "metadata": {},
   "outputs": [],
   "source": [
    "def read_doc(directory):\n",
    "    file = PyPDFDirectoryLoader(directory)\n",
    "    doc = file.load()\n",
    "    return doc\n"
   ]
  },
  {
   "cell_type": "code",
   "execution_count": null,
   "metadata": {},
   "outputs": [],
   "source": [
    "doc = read_doc(\"documents/\")\n",
    "doc\n"
   ]
  },
  {
   "cell_type": "code",
   "execution_count": 4,
   "metadata": {},
   "outputs": [],
   "source": [
    "def chunk_data(docs, chunk_size=810, chunk_overlap=50):\n",
    "    text_splitter = RecursiveCharacterTextSplitter(\n",
    "        chunk_size=chunk_size, chunk_overlap=chunk_overlap\n",
    "    )\n",
    "\n",
    "    doc = text_splitter.split_documents(docs)\n",
    "    return doc\n"
   ]
  },
  {
   "cell_type": "code",
   "execution_count": 5,
   "metadata": {},
   "outputs": [],
   "source": [
    "documents = chunk_data(docs=doc)\n",
    "# documents\n"
   ]
  },
  {
   "cell_type": "code",
   "execution_count": null,
   "metadata": {},
   "outputs": [],
   "source": [
    "embeddings = CohereEmbeddings(\n",
    "    cohere_api_key=\"fyYH6Yv6trfc81mWAtEjMqU8Uvnl5f77qIQjJT5g\",\n",
    "    model=\"embed-english-v3.0\",\n",
    ")\n"
   ]
  },
  {
   "cell_type": "code",
   "execution_count": null,
   "metadata": {},
   "outputs": [],
   "source": [
    "vectorstore = PineconeVectorStore.from_documents(\n",
    "    doc, index_name=\"pdf-talker\", embedding=embeddings\n",
    ")\n",
    "vectorstore\n"
   ]
  },
  {
   "cell_type": "code",
   "execution_count": 9,
   "metadata": {},
   "outputs": [],
   "source": [
    "def retrieve_query(query, k=2):\n",
    "    matching_results = vectorstore.similarity_search(query=query, k=k)\n",
    "    return matching_results\n"
   ]
  },
  {
   "cell_type": "code",
   "execution_count": 10,
   "metadata": {},
   "outputs": [],
   "source": [
    "from langchain.chains.conversational_retrieval.base import ChatVectorDBChain\n",
    "\n",
    "os.environ[\"GROQ_API_KEY\"] = \"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\"\n",
    "llm = ChatGroq(model=\"llama3-8b-8192\")\n"
   ]
  },
  {
   "cell_type": "code",
   "execution_count": null,
   "metadata": {},
   "outputs": [],
   "source": [
    "chain = ChatVectorDBChain.from_llm(llm=llm, vectorstore=vectorstore, chain_type=\"stuff\")\n",
    "\n",
    "\n",
    "def retrieve_answer(query):\n",
    "\n",
    "\n",
    "    # doc_search = retrieve_query(query=query)\n",
    "\n",
    "\n",
    "    # print(doc_search)\n",
    "    chat_history = []\n",
    "    query = {\"question\": query, \"chat_history\": chat_history}\n",
    "\n",
    "\n",
    "    response = chain.invoke(query)\n",
    "\n",
    "\n",
    "    return response\n"
   ]
  },
  {
   "cell_type": "code",
   "execution_count": null,
   "metadata": {},
   "outputs": [],
   "source": [
    "query = \"How much the agriculture target will be increased by how many crores?\"\n",
    "\n",
    "retrieve_answer(query=query)\n"
   ]
  },
  {
   "cell_type": "code",
   "execution_count": null,
   "metadata": {},
   "outputs": [],
   "source": []
  }
 ],
 "metadata": {
  "kernelspec": {
   "display_name": "venv",
   "language": "python",
   "name": "python3"
  },
  "language_info": {
   "codemirror_mode": {
    "name": "ipython",
    "version": 3
   },
   "file_extension": ".py",
   "mimetype": "text/x-python",
   "name": "python",
   "nbconvert_exporter": "python",
   "pygments_lexer": "ipython3",
   "version": "3.12.5"
  }
 },
 "nbformat": 4,
 "nbformat_minor": 2
}
